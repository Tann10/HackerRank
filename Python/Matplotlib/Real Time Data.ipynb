{
 "cells": [
  {
   "cell_type": "code",
   "execution_count": 1,
   "metadata": {},
   "outputs": [],
   "source": [
    "import csv\n",
    "import time\n",
    "import random"
   ]
  },
  {
   "cell_type": "code",
   "execution_count": 2,
   "metadata": {},
   "outputs": [],
   "source": [
    "x_value = 0\n",
    "total_1 = 1000\n",
    "total_2 = 1000"
   ]
  },
  {
   "cell_type": "code",
   "execution_count": 3,
   "metadata": {},
   "outputs": [],
   "source": [
    "# column names in CSV\n",
    "fieldnames = [\"x_value\", \"total_1\", \"total_2\"]"
   ]
  },
  {
   "cell_type": "code",
   "execution_count": 6,
   "metadata": {},
   "outputs": [],
   "source": [
    "with open('real-time-data.csv','w') as csv_file:\n",
    "    csv_writer = csv.DictWriter(csv_file, fieldnames=fieldnames)\n",
    "    csv_writer.writeheader()"
   ]
  },
  {
   "cell_type": "code",
   "execution_count": 7,
   "metadata": {},
   "outputs": [
    {
     "name": "stdout",
     "output_type": "stream",
     "text": [
      "200 1197 1024\n",
      "201 1204 1030\n",
      "202 1198 1028\n",
      "203 1199 1026\n",
      "204 1195 1022\n",
      "205 1195 1019\n",
      "206 1192 1019\n",
      "207 1188 1022\n",
      "208 1189 1024\n",
      "209 1194 1023\n",
      "210 1193 1027\n",
      "211 1189 1026\n",
      "212 1193 1021\n",
      "213 1192 1023\n",
      "214 1194 1024\n",
      "215 1196 1030\n",
      "216 1204 1034\n",
      "217 1212 1034\n",
      "218 1220 1031\n",
      "219 1219 1027\n",
      "220 1227 1031\n",
      "221 1235 1027\n",
      "222 1229 1032\n",
      "223 1232 1036\n",
      "224 1227 1036\n",
      "225 1232 1031\n",
      "226 1236 1026\n",
      "227 1242 1028\n",
      "228 1241 1029\n",
      "229 1239 1024\n",
      "230 1233 1025\n",
      "231 1227 1023\n",
      "232 1226 1026\n",
      "233 1221 1029\n",
      "234 1216 1031\n",
      "235 1223 1030\n",
      "236 1221 1025\n",
      "237 1229 1029\n",
      "238 1237 1025\n",
      "239 1233 1031\n",
      "240 1229 1027\n",
      "241 1231 1033\n",
      "242 1227 1037\n",
      "243 1228 1039\n",
      "244 1235 1038\n",
      "245 1232 1042\n",
      "246 1231 1043\n",
      "247 1226 1038\n",
      "248 1222 1044\n",
      "249 1224 1049\n",
      "250 1220 1054\n",
      "251 1214 1049\n",
      "252 1215 1047\n",
      "253 1215 1046\n",
      "254 1221 1048\n",
      "255 1227 1048\n",
      "256 1232 1047\n",
      "257 1235 1045\n",
      "258 1237 1041\n",
      "259 1242 1038\n",
      "260 1249 1041\n",
      "261 1243 1039\n",
      "262 1244 1038\n",
      "263 1241 1033\n",
      "264 1245 1032\n",
      "265 1249 1032\n",
      "266 1257 1030\n",
      "267 1256 1026\n",
      "268 1256 1031\n",
      "269 1259 1030\n",
      "270 1263 1029\n",
      "271 1265 1035\n",
      "272 1270 1039\n",
      "273 1277 1040\n",
      "274 1285 1040\n",
      "275 1286 1043\n",
      "276 1293 1039\n",
      "277 1291 1041\n",
      "278 1297 1037\n",
      "279 1300 1032\n",
      "280 1297 1034\n",
      "281 1300 1030\n",
      "282 1296 1029\n",
      "283 1293 1034\n",
      "284 1295 1033\n",
      "285 1295 1029\n",
      "286 1301 1035\n",
      "287 1298 1040\n",
      "288 1292 1040\n",
      "289 1296 1037\n",
      "290 1296 1041\n",
      "291 1294 1045\n",
      "292 1302 1051\n",
      "293 1298 1055\n",
      "294 1301 1060\n",
      "295 1303 1057\n",
      "296 1303 1055\n",
      "297 1298 1059\n",
      "298 1296 1059\n",
      "299 1301 1064\n",
      "300 1307 1065\n"
     ]
    },
    {
     "ename": "KeyboardInterrupt",
     "evalue": "",
     "output_type": "error",
     "traceback": [
      "\u001b[1;31m---------------------------------------------------------------------------\u001b[0m",
      "\u001b[1;31mKeyboardInterrupt\u001b[0m                         Traceback (most recent call last)",
      "\u001b[1;32m<ipython-input-7-3bf73e77f2b5>\u001b[0m in \u001b[0;36m<module>\u001b[1;34m\u001b[0m\n\u001b[0;32m     17\u001b[0m         \u001b[0mtotal_2\u001b[0m \u001b[1;33m=\u001b[0m \u001b[0mtotal_2\u001b[0m \u001b[1;33m+\u001b[0m \u001b[0mrandom\u001b[0m\u001b[1;33m.\u001b[0m\u001b[0mrandint\u001b[0m\u001b[1;33m(\u001b[0m\u001b[1;33m-\u001b[0m\u001b[1;36m5\u001b[0m\u001b[1;33m,\u001b[0m \u001b[1;36m6\u001b[0m\u001b[1;33m)\u001b[0m\u001b[1;33m\u001b[0m\u001b[1;33m\u001b[0m\u001b[0m\n\u001b[0;32m     18\u001b[0m \u001b[1;33m\u001b[0m\u001b[0m\n\u001b[1;32m---> 19\u001b[1;33m     \u001b[0mtime\u001b[0m\u001b[1;33m.\u001b[0m\u001b[0msleep\u001b[0m\u001b[1;33m(\u001b[0m\u001b[1;36m1\u001b[0m\u001b[1;33m)\u001b[0m\u001b[1;33m\u001b[0m\u001b[1;33m\u001b[0m\u001b[0m\n\u001b[0m",
      "\u001b[1;31mKeyboardInterrupt\u001b[0m: "
     ]
    }
   ],
   "source": [
    "while True:\n",
    "    \n",
    "    with open('real-time-data.csv', 'a') as csv_file:\n",
    "        csv_writer = csv.DictWriter(csv_file, fieldnames=fieldnames)\n",
    "        \n",
    "        info = {\n",
    "            \"x_value\":x_value,\n",
    "            \"total_1\": total_1,\n",
    "            \"total_2\": total_2\n",
    "        }\n",
    "        \n",
    "        csv_writer.writerow(info)\n",
    "        print(x_value, total_1, total_2)\n",
    "        \n",
    "        x_value += 1\n",
    "        total_1 = total_1 + random.randint(-6, 8)\n",
    "        total_2 = total_2 + random.randint(-5, 6)\n",
    "        \n",
    "    time.sleep(1)"
   ]
  }
 ],
 "metadata": {
  "kernelspec": {
   "display_name": "Python 3",
   "language": "python",
   "name": "python3"
  },
  "language_info": {
   "codemirror_mode": {
    "name": "ipython",
    "version": 3
   },
   "file_extension": ".py",
   "mimetype": "text/x-python",
   "name": "python",
   "nbconvert_exporter": "python",
   "pygments_lexer": "ipython3",
   "version": "3.7.7"
  }
 },
 "nbformat": 4,
 "nbformat_minor": 4
}
