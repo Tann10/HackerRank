{
 "cells": [
  {
   "cell_type": "markdown",
   "metadata": {},
   "source": [
    "# Welcome to Monty Hall Game"
   ]
  },
  {
   "cell_type": "code",
   "execution_count": 34,
   "metadata": {},
   "outputs": [
    {
     "name": "stdout",
     "output_type": "stream",
     "text": [
      "This is the Monty Hall problem. There are 3 doors in front of you, and there is a prize behind one of them. Once you select a door, I will open one of the two you had not selected which does not have a prize behind it. You will then have the opportunity to switch from the door you originally selected to an alternate door..\n",
      "Select door 'A', 'B', or 'C': B\n",
      "This problem relies on conditional probabilities. It is suggested that you switch doors, you will have a higher probability of winning of you do.\n",
      "The door I will now open is: 'A'\n",
      "Would you like to select the third door? Type 'Yes' or 'No': Yes\n",
      " The door you will switch to is: 'C' \n",
      " Congrats, you win! The prize was behind the alternate, 'C'\n",
      "Prize: 'C'\n",
      "Selection: 'B' \n",
      "Alternate: 'C' \n",
      "Door opened: 'A' \n"
     ]
    }
   ],
   "source": [
    "print(\"This is the Monty Hall problem. \\\n",
    "There are 3 doors in front of you, and there is a prize behind one of them. \\\n",
    "Once you select a door, I will open one of the two you had not selected which does not have a prize behind it. \\\n",
    "You will then have the opportunity to switch from the door you originally selected to an alternate door..\")\n",
    "\n",
    "import random\n",
    "\n",
    "A = \"A\"\n",
    "B = \"B\"\n",
    "C = \"C\"\n",
    "\n",
    "doors = [\"A\", \"B\", \"C\"]\n",
    "\n",
    "prize = random.choice(doors)\n",
    "\n",
    "selection = input(\"Select door 'A', 'B', or 'C': \")\n",
    "\n",
    "print (\"This problem relies on conditional probabilities. \\\n",
    "It is suggested that you switch doors, you will have a higher probability of winning of you do.\")\n",
    "\n",
    "\n",
    "if selection == prize:\n",
    "        remaining = list(set(doors) - set(prize))\n",
    "        open_door = random.choice(list(set(doors) - set(random.choice(remaining))))\n",
    "        alternate = random.choice(list(set(doors) - set(open_door) - set(prize)))\n",
    "\n",
    "else:\n",
    "        open_door = random.choice(list(set(doors) - set(selection) - set(prize)))\n",
    "        alternate = random.choice(list(set(doors) - set(open_door) - set(selection)))\n",
    "\n",
    "print(\"The door I will now open is: %r\" % open_door)\n",
    "\n",
    "second_chance = input(\"Would you like to select the third door? Type 'Yes' or 'No': \")\n",
    "\n",
    "if second_chance == \"Yes\":\n",
    "        print(\" The door you will switch to is: %r \" % alternate)\n",
    "\n",
    "        if alternate == prize:\n",
    "                print(\" Congrats, you win! The prize was behind the alternate, %r\"% alternate)\n",
    "        else:\n",
    "                print(\"Sorry, the prize was behind the original door %r\"\"\" % prize)\n",
    "\n",
    "\n",
    "if second_chance != \"Yes\":\n",
    "        print(\"You decided to keep your initial door, %r\"% selection)\n",
    "        if selection != prize:\n",
    "                print(\"Sorry, the prize was behind the alternate door, %r\" % prize)\n",
    "        else:\n",
    "                print(\"Congrats, you win! The prize was behind your original selection, %r\"% selection)\n",
    "\n",
    "\n",
    "\n",
    "\n",
    "print(\"Prize: %r\" % prize)\n",
    "print(\"Selection: %r \" % selection)\n",
    "print(\"Alternate: %r \" % alternate)\n",
    "print(\"Door opened: %r \" % open_door)"
   ]
  },
  {
   "cell_type": "markdown",
   "metadata": {},
   "source": [
    "### Simulation to check if the probability of changing the door is high"
   ]
  },
  {
   "cell_type": "code",
   "execution_count": 36,
   "metadata": {},
   "outputs": [
    {
     "name": "stdout",
     "output_type": "stream",
     "text": [
      "Prob if options are changed 0.66617\n",
      "Prob if options are not changed 0.33383\n"
     ]
    }
   ],
   "source": [
    "import random\n",
    "\n",
    "# Make 10000 trials\n",
    "\n",
    "n_tries = 100000\n",
    "\n",
    "# lists to store results from stay or switch strategy\n",
    "stay_results = []\n",
    "switch_results = []\n",
    "\n",
    "for i in range(n_tries):\n",
    "    \n",
    "    doors = ['car', 'goat', 'goat']\n",
    "    random.shuffle(doors)\n",
    "\n",
    "    my_door_index = random.choice([0,1,2])\n",
    "\n",
    "    stay_result =doors.pop(my_door_index)\n",
    "    \n",
    "    # Monty knows removes a goat\n",
    "    doors.remove('goat')\n",
    "    switch_result = doors[0]\n",
    "    \n",
    "    # Put results into result lists\n",
    "    stay_results.append(stay_result)\n",
    "    switch_results.append(switch_result)\n",
    "\n",
    "    \n",
    "# print probability of success if changed the results\n",
    "print(\"Prob if options are changed\",switch_results.count('car')/n_tries)\n",
    "# print probability of success if did not change the results\n",
    "print(\"Prob if options are not changed\",stay_results.count('car')/n_tries)\n",
    "\n",
    "\n",
    "    "
   ]
  }
 ],
 "metadata": {
  "kernelspec": {
   "display_name": "Python 3",
   "language": "python",
   "name": "python3"
  },
  "language_info": {
   "codemirror_mode": {
    "name": "ipython",
    "version": 3
   },
   "file_extension": ".py",
   "mimetype": "text/x-python",
   "name": "python",
   "nbconvert_exporter": "python",
   "pygments_lexer": "ipython3",
   "version": "3.7.7"
  }
 },
 "nbformat": 4,
 "nbformat_minor": 4
}
